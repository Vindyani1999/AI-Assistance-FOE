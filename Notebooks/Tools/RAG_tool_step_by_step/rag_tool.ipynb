{
 "cells": [
  {
   "cell_type": "code",
   "execution_count": 17,
   "metadata": {},
   "outputs": [
    {
     "data": {
      "text/plain": [
       "True"
      ]
     },
     "execution_count": 17,
     "metadata": {},
     "output_type": "execute_result"
    }
   ],
   "source": [
    "from langchain_chroma import Chroma\n",
    "import os\n",
    "from pyprojroot import here\n",
    "from langchain_openai import OpenAIEmbeddings\n",
    "from openai import OpenAI\n",
    "from dotenv import load_dotenv\n",
    "from pprint import pprint\n",
    "\n",
    "# Load environment variables\n",
    "load_dotenv()"
   ]
  },
  {
   "cell_type": "code",
   "execution_count": 18,
   "metadata": {},
   "outputs": [],
   "source": [
    "os.environ['OPENAI_API_KEY'] = os.getenv(\"OPEN_AI_API_KEY\")\n",
    "EMBEDDING_MODEL = \"text-embedding-3-small\"\n",
    "K=2"
   ]
  },
  {
   "cell_type": "code",
   "execution_count": 19,
   "metadata": {},
   "outputs": [],
   "source": [
    "# for first vector database\n",
    "\n",
    "VECTORDB_DIR = \"data/airline_policy_vectordb\"\n",
    "\n",
    "from langchain_core.tools import tool\n",
    "\n",
    "@tool\n",
    "def lookup_swiss_airline_policy(query: str)->str:\n",
    "    \"\"\"Search within the online learning related content to check whether certain options are permitted. Input should be a search query.\"\"\"\n",
    "    vectordb = Chroma(\n",
    "    collection_name=\"rag-chroma\",\n",
    "    persist_directory=str(here(VECTORDB_DIR)),\n",
    "    embedding_function=OpenAIEmbeddings(model=EMBEDDING_MODEL)\n",
    "    )\n",
    "    docs = vectordb.similarity_search(query, k=K)\n",
    "    return \"\\n\\n\".join([doc.page_content for doc in docs])"
   ]
  },
  {
   "cell_type": "code",
   "execution_count": 20,
   "metadata": {},
   "outputs": [],
   "source": [
    "# for second vector database\n",
    "STORIES_VECTORDB_DIR = \"data/stories_vectordb\"\n",
    "\n",
    "@tool\n",
    "def lookup_stories(query: str) -> str:\n",
    "    \"\"\"Search within story content to find relevant information. Input should be a search query.\"\"\"\n",
    "    vectordb = Chroma(\n",
    "        collection_name=\"rag-chroma\",\n",
    "        persist_directory=str(here(STORIES_VECTORDB_DIR)),\n",
    "        embedding_function=OpenAIEmbeddings(model=EMBEDDING_MODEL)\n",
    "    )\n",
    "    docs = vectordb.similarity_search(query, k=K)\n",
    "    return \"\\n\\n\".join([doc.page_content for doc in docs])"
   ]
  },
  {
   "cell_type": "code",
   "execution_count": 9,
   "metadata": {},
   "outputs": [
    {
     "name": "stdout",
     "output_type": "stream",
     "text": [
      "lookup_swiss_airline_policy\n",
      "{'query': {'title': 'Query', 'type': 'string'}}\n",
      "Search within the online learning related content to check whether certain options are permitted. Input should be a search query.\n"
     ]
    }
   ],
   "source": [
    "print(lookup_swiss_airline_policy.name)\n",
    "print(lookup_swiss_airline_policy.args)\n",
    "print(lookup_swiss_airline_policy.description)"
   ]
  },
  {
   "cell_type": "code",
   "execution_count": 22,
   "metadata": {},
   "outputs": [
    {
     "name": "stdout",
     "output_type": "stream",
     "text": [
      "('2 \\n'\n",
      " ' 3. Personalized Learning Pace:  Asynchronous learning, in particular, '\n",
      " 'allows students to progress \\n'\n",
      " 'through material at a pace that matches their individual learning style and '\n",
      " 'comprehension, revisiting \\n'\n",
      " 'complex topics as needed.  \\n'\n",
      " '4. Diverse Learning Opportunities:  The global reach of online education '\n",
      " 'means students have access to \\n'\n",
      " 'a wider range of specialized courses and programs that might not be '\n",
      " 'available locally.  \\n'\n",
      " '5. Development of Digital Skills:  Engaging with online platforms, tools, '\n",
      " 'and resources inherently \\n'\n",
      " \"enhances students' digital literacy, a crucial skill in today's technology \"\n",
      " '-driven world.  \\n'\n",
      " '4 Challenges of Online Education  \\n'\n",
      " 'Despite its advantages, online education also presents several challenges '\n",
      " 'that need to be addressed for \\n'\n",
      " 'optimal effectiveness.  \\n'\n",
      " '1. Self -Discipline and Motivation:  The flexibility of online learning '\n",
      " 'requires a high degree of self -\\n'\n",
      " 'discipline and intrinsic motivation. Procrastination can be a significant '\n",
      " 'hurdle without the structured \\n'\n",
      " 'routine of a physical classroom.  \\n'\n",
      " '2. Technical Requirements and Access:  Reliable internet access, suitable '\n",
      " 'devices (computers, tablets), \\n'\n",
      " 'and basic digital literacy are prerequisites. This can create a digital '\n",
      " 'divide, excluding learners in \\n'\n",
      " 'underserved areas.  \\n'\n",
      " '3. Lack of Face -to-Face Interaction:  Some students may miss the immediate '\n",
      " 'social interaction, \\n'\n",
      " 'spontaneous discussions, and networking opportunities inherent in '\n",
      " 'traditional campus environments. This \\n'\n",
      " 'can sometimes lead to feelings of isolation.  \\n'\n",
      " '4. Quality Assurance and Accreditation:  Ensuring the quality and '\n",
      " 'credibility of online programs is an \\n'\n",
      " 'ongoing challenge, requiring robust accreditation processes and pedagogical '\n",
      " 'standards.  \\n'\n",
      " '5. Assessment Integrity:  Maintaining academic integrity in online '\n",
      " 'assessments can be more complex, \\n'\n",
      " 'necessitating innovative proctoring solutions and assignment designs.\\n'\n",
      " '\\n'\n",
      " 'Online Education: A Paradigm Shift in Learning  \\n'\n",
      " '1 Introduction  \\n'\n",
      " 'Online education, once a niche alternative, has rapidly evolved into a '\n",
      " 'mainstream and transformative \\n'\n",
      " 'force in the global educational landscape. Fueled by technological '\n",
      " 'advancements and accelerated by \\n'\n",
      " 'recent global events, it has redefined traditional learn ing paradigms, '\n",
      " 'offering unprecedented flexibility, \\n'\n",
      " 'accessibility, and diverse learning opportunities. This mode of education '\n",
      " 'leverages digital platforms and \\n'\n",
      " 'internet connectivity to deliver courses and programs remotely, breaking '\n",
      " 'down geographical barriers  and \\n'\n",
      " 'catering to a wider spectrum of learners. From K -12 schooling to higher '\n",
      " 'education and professional \\n'\n",
      " 'development, online learning has proven its capacity to adapt and innovate, '\n",
      " 'fundamentally altering how \\n'\n",
      " 'knowledge is acquired and disseminated in the 21s t century.  \\n'\n",
      " '2 Key Aspects of Online Education  \\n'\n",
      " 'Online education encompasses a variety of formats and methodologies, each '\n",
      " 'designed to facilitate \\n'\n",
      " 'effective remote learning.  \\n'\n",
      " '1. Asynchronous Learning:  This is a common model where students access '\n",
      " 'course materials, lectures \\n'\n",
      " '(often pre -recorded), and assignments at their own pace, within a given '\n",
      " 'timeframe. Communication \\n'\n",
      " 'typically occurs through discussion forums, email, and shared documents. '\n",
      " 'This flexibil ity is particularly \\n'\n",
      " 'beneficial for learners balancing education with work or other '\n",
      " 'commitments.  \\n'\n",
      " '2. Synchronous Learning:  This involves real -time interaction between '\n",
      " 'instructors and students, often \\n'\n",
      " 'through live video conferencing, virtual classrooms, or instant messaging. '\n",
      " 'It mimics the traditional \\n'\n",
      " 'classroom experience, allowing for immediate questions, discussions, and '\n",
      " 'colla borative activities.  \\n'\n",
      " '3. Blended Learning:  A hybrid approach that combines elements of both '\n",
      " 'online and face -to-face \\n'\n",
      " 'instruction. Students might attend some classes physically while completing '\n",
      " 'other components, such as \\n'\n",
      " 'readings, quizzes, or project work, online. This model seeks to leverage the '\n",
      " 'str engths of both \\n'\n",
      " 'environments.  \\n'\n",
      " '4. Learning Management Systems (LMS):  Platforms like Moodle, Canvas, '\n",
      " 'Blackboard, and Google \\n'\n",
      " 'Classroom are central to online education. They provide a centralized hub '\n",
      " 'for course content, \\n'\n",
      " 'assignments, grades, communication tools, and administrative functions, '\n",
      " 'streamlining the learning \\n'\n",
      " 'process.')\n"
     ]
    }
   ],
   "source": [
    "pprint(lookup_swiss_airline_policy.invoke(\"what are the challenges Online Education?\"))"
   ]
  }
 ],
 "metadata": {
  "kernelspec": {
   "display_name": "plantenv",
   "language": "python",
   "name": "python3"
  },
  "language_info": {
   "codemirror_mode": {
    "name": "ipython",
    "version": 3
   },
   "file_extension": ".py",
   "mimetype": "text/x-python",
   "name": "python",
   "nbconvert_exporter": "python",
   "pygments_lexer": "ipython3",
   "version": "3.12.2"
  }
 },
 "nbformat": 4,
 "nbformat_minor": 2
}
